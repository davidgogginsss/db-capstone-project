{
 "cells": [
  {
   "cell_type": "code",
   "execution_count": 1,
   "metadata": {},
   "outputs": [
    {
     "name": "stdout",
     "output_type": "stream",
     "text": [
      "Successfully connected.\n"
     ]
    }
   ],
   "source": [
    "import mysql.connector as connector\n",
    "# Task 1\n",
    "try:\n",
    "    connection = connector.connect(user=\"root\", password=\"rootroot\", db=\"LittleLemonDM\")\n",
    "    print(\"Successfully connected.\")\n",
    "    cursor = connection.cursor()\n",
    "except:\n",
    "    print(\"No connected.\")"
   ]
  },
  {
   "cell_type": "code",
   "execution_count": 2,
   "metadata": {},
   "outputs": [
    {
     "name": "stdout",
     "output_type": "stream",
     "text": [
      "[('Bookings',), ('Customers',), ('Delivery',), ('MenuItems',), ('Menus',), ('Orders',), ('ordersview',), ('Staffs',)]\n"
     ]
    }
   ],
   "source": [
    "# Task 2\n",
    "show_tables_query = \"SHOW tables\" \n",
    "cursor.execute(show_tables_query)\n",
    "results = cursor.fetchall()\n",
    "print(results)"
   ]
  },
  {
   "cell_type": "code",
   "execution_count": 3,
   "metadata": {},
   "outputs": [],
   "source": [
    "# Task 3\n",
    "# They require the full name and contact details for every customer \n",
    "# that has placed an order greater than $60 for a promotional campaign. \n",
    "task3 = \"\"\"\n",
    "SELECT C.CustomerName, C.CustomerEmail, C.CustomerPhone, O.TotalCost\n",
    "FROM Orders as O\n",
    "left join Customers as C on O.CustomerID = C.CustomerID\n",
    "WHERE O.TotalCost > 60\n",
    ";\n",
    "\"\"\"\n",
    "cursor.execute(task3)\n",
    "results = cursor.fetchall()\n",
    "for result in results:\n",
    "    print(result)"
   ]
  }
 ],
 "metadata": {
  "kernelspec": {
   "display_name": "base",
   "language": "python",
   "name": "python3"
  },
  "language_info": {
   "codemirror_mode": {
    "name": "ipython",
    "version": 3
   },
   "file_extension": ".py",
   "mimetype": "text/x-python",
   "name": "python",
   "nbconvert_exporter": "python",
   "pygments_lexer": "ipython3",
   "version": "3.11.7"
  }
 },
 "nbformat": 4,
 "nbformat_minor": 2
}
